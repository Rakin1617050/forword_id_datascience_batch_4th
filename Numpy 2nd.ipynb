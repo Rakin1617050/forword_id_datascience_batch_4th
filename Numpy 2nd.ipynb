{
 "cells": [
  {
   "cell_type": "markdown",
   "metadata": {},
   "source": [
    "# numpy slicing"
   ]
  },
  {
   "cell_type": "code",
   "execution_count": 2,
   "metadata": {},
   "outputs": [],
   "source": [
    "import numpy as np"
   ]
  },
  {
   "cell_type": "code",
   "execution_count": 36,
   "metadata": {},
   "outputs": [],
   "source": [
    "a = np.arange(100)"
   ]
  },
  {
   "cell_type": "code",
   "execution_count": 37,
   "metadata": {},
   "outputs": [
    {
     "data": {
      "text/plain": [
       "array([ 0,  1,  2,  3,  4,  5,  6,  7,  8,  9, 10, 11, 12, 13, 14, 15, 16,\n",
       "       17, 18, 19, 20, 21, 22, 23, 24, 25, 26, 27, 28, 29, 30, 31, 32, 33,\n",
       "       34, 35, 36, 37, 38, 39, 40, 41, 42, 43, 44, 45, 46, 47, 48, 49, 50,\n",
       "       51, 52, 53, 54, 55, 56, 57, 58, 59, 60, 61, 62, 63, 64, 65, 66, 67,\n",
       "       68, 69, 70, 71, 72, 73, 74, 75, 76, 77, 78, 79, 80, 81, 82, 83, 84,\n",
       "       85, 86, 87, 88, 89, 90, 91, 92, 93, 94, 95, 96, 97, 98, 99])"
      ]
     },
     "execution_count": 37,
     "metadata": {},
     "output_type": "execute_result"
    }
   ],
   "source": [
    "a"
   ]
  },
  {
   "cell_type": "code",
   "execution_count": 8,
   "metadata": {},
   "outputs": [],
   "source": [
    "s = slice(2, 20, 2)"
   ]
  },
  {
   "cell_type": "code",
   "execution_count": 9,
   "metadata": {},
   "outputs": [
    {
     "data": {
      "text/plain": [
       "slice(2, 20, 2)"
      ]
     },
     "execution_count": 9,
     "metadata": {},
     "output_type": "execute_result"
    }
   ],
   "source": [
    "s"
   ]
  },
  {
   "cell_type": "code",
   "execution_count": 10,
   "metadata": {},
   "outputs": [
    {
     "data": {
      "text/plain": [
       "array([ 2,  4,  6,  8, 10, 12, 14, 16, 18])"
      ]
     },
     "execution_count": 10,
     "metadata": {},
     "output_type": "execute_result"
    }
   ],
   "source": [
    "a[s]"
   ]
  },
  {
   "cell_type": "code",
   "execution_count": 11,
   "metadata": {},
   "outputs": [
    {
     "data": {
      "text/plain": [
       "array([ 1,  2,  3,  4,  5,  6,  7,  8,  9, 10, 11, 12, 13, 14, 15, 16, 17,\n",
       "       18, 19])"
      ]
     },
     "execution_count": 11,
     "metadata": {},
     "output_type": "execute_result"
    }
   ],
   "source": [
    "a[slice(1, 20, 1)]"
   ]
  },
  {
   "cell_type": "code",
   "execution_count": 12,
   "metadata": {},
   "outputs": [
    {
     "data": {
      "text/plain": [
       "array([2, 3, 4, 5, 6])"
      ]
     },
     "execution_count": 12,
     "metadata": {},
     "output_type": "execute_result"
    }
   ],
   "source": [
    "a[2:7]"
   ]
  },
  {
   "cell_type": "code",
   "execution_count": 13,
   "metadata": {},
   "outputs": [
    {
     "data": {
      "text/plain": [
       "array([ 1,  4,  7, 10, 13, 16, 19, 22, 25, 28])"
      ]
     },
     "execution_count": 13,
     "metadata": {},
     "output_type": "execute_result"
    }
   ],
   "source": [
    "a[1:30:3]"
   ]
  },
  {
   "cell_type": "code",
   "execution_count": 14,
   "metadata": {},
   "outputs": [
    {
     "data": {
      "text/plain": [
       "array([50, 51, 52, 53, 54, 55, 56, 57, 58, 59, 60, 61, 62, 63, 64, 65, 66,\n",
       "       67, 68, 69, 70, 71, 72, 73, 74, 75, 76, 77, 78, 79, 80, 81, 82, 83,\n",
       "       84, 85, 86, 87, 88, 89, 90, 91, 92, 93, 94, 95, 96, 97, 98, 99])"
      ]
     },
     "execution_count": 14,
     "metadata": {},
     "output_type": "execute_result"
    }
   ],
   "source": [
    "a[50:]"
   ]
  },
  {
   "cell_type": "code",
   "execution_count": 15,
   "metadata": {},
   "outputs": [
    {
     "data": {
      "text/plain": [
       "array([ 0,  1,  2,  3,  4,  5,  6,  7,  8,  9, 10, 11, 12, 13, 14, 15, 16,\n",
       "       17, 18, 19, 20, 21, 22, 23, 24, 25, 26, 27, 28, 29])"
      ]
     },
     "execution_count": 15,
     "metadata": {},
     "output_type": "execute_result"
    }
   ],
   "source": [
    "a[:30]"
   ]
  },
  {
   "cell_type": "code",
   "execution_count": 43,
   "metadata": {},
   "outputs": [],
   "source": [
    "a = a.reshape(10, 10)"
   ]
  },
  {
   "cell_type": "code",
   "execution_count": 44,
   "metadata": {},
   "outputs": [
    {
     "data": {
      "text/plain": [
       "array([[ 3,  4,  5],\n",
       "       [13, 14, 15],\n",
       "       [23, 24, 25],\n",
       "       [33, 34, 35],\n",
       "       [43, 44, 45],\n",
       "       [53, 54, 55],\n",
       "       [63, 64, 65],\n",
       "       [73, 74, 75],\n",
       "       [83, 84, 85],\n",
       "       [93, 94, 95]])"
      ]
     },
     "execution_count": 44,
     "metadata": {},
     "output_type": "execute_result"
    }
   ],
   "source": [
    "# (...)elipses\n",
    "a[..., 3:6]"
   ]
  },
  {
   "cell_type": "code",
   "execution_count": 45,
   "metadata": {},
   "outputs": [
    {
     "data": {
      "text/plain": [
       "array([[ 0,  1,  2,  3,  4,  5,  6,  7,  8,  9],\n",
       "       [10, 11, 12, 13, 14, 15, 16, 17, 18, 19],\n",
       "       [20, 21, 22, 23, 24, 25, 26, 27, 28, 29],\n",
       "       [30, 31, 32, 33, 34, 35, 36, 37, 38, 39],\n",
       "       [40, 41, 42, 43, 44, 45, 46, 47, 48, 49],\n",
       "       [50, 51, 52, 53, 54, 55, 56, 57, 58, 59],\n",
       "       [60, 61, 62, 63, 64, 65, 66, 67, 68, 69],\n",
       "       [70, 71, 72, 73, 74, 75, 76, 77, 78, 79],\n",
       "       [80, 81, 82, 83, 84, 85, 86, 87, 88, 89],\n",
       "       [90, 91, 92, 93, 94, 95, 96, 97, 98, 99]])"
      ]
     },
     "execution_count": 45,
     "metadata": {},
     "output_type": "execute_result"
    }
   ],
   "source": [
    "a"
   ]
  },
  {
   "cell_type": "code",
   "execution_count": 48,
   "metadata": {},
   "outputs": [],
   "source": [
    "a[2:4, 2:4] = 0"
   ]
  },
  {
   "cell_type": "code",
   "execution_count": 49,
   "metadata": {},
   "outputs": [
    {
     "data": {
      "text/plain": [
       "array([[ 0,  1,  2,  3,  4,  5,  6,  7,  8,  9],\n",
       "       [10, 11, 12, 13, 14, 15, 16, 17, 18, 19],\n",
       "       [20, 21,  0,  0, 24, 25, 26, 27, 28, 29],\n",
       "       [30, 31,  0,  0, 34, 35, 36, 37, 38, 39],\n",
       "       [40, 41, 42, 43, 44, 45, 46, 47, 48, 49],\n",
       "       [50, 51, 52, 53, 54, 55, 56, 57, 58, 59],\n",
       "       [60, 61, 62, 63, 64, 65, 66, 67, 68, 69],\n",
       "       [70, 71, 72, 73, 74, 75, 76, 77, 78, 79],\n",
       "       [80, 81, 82, 83, 84, 85, 86, 87, 88, 89],\n",
       "       [90, 91, 92, 93, 94, 95, 96, 97, 98, 99]])"
      ]
     },
     "execution_count": 49,
     "metadata": {},
     "output_type": "execute_result"
    }
   ],
   "source": [
    "a"
   ]
  },
  {
   "cell_type": "code",
   "execution_count": 51,
   "metadata": {},
   "outputs": [
    {
     "data": {
      "text/plain": [
       "array([], dtype=int32)"
      ]
     },
     "execution_count": 51,
     "metadata": {},
     "output_type": "execute_result"
    }
   ],
   "source": [
    "a[np.isnan(a)]"
   ]
  },
  {
   "cell_type": "code",
   "execution_count": 52,
   "metadata": {},
   "outputs": [
    {
     "data": {
      "text/plain": [
       "array([], dtype=int32)"
      ]
     },
     "execution_count": 52,
     "metadata": {},
     "output_type": "execute_result"
    }
   ],
   "source": [
    "a[np.iscomplex(a)]"
   ]
  },
  {
   "cell_type": "code",
   "execution_count": 53,
   "metadata": {},
   "outputs": [
    {
     "name": "stdout",
     "output_type": "stream",
     "text": [
      "0\n",
      "1\n",
      "2\n",
      "3\n",
      "4\n",
      "5\n",
      "6\n",
      "7\n",
      "8\n",
      "9\n",
      "10\n",
      "11\n",
      "12\n",
      "13\n",
      "14\n",
      "15\n",
      "16\n",
      "17\n",
      "18\n",
      "19\n",
      "20\n",
      "21\n",
      "0\n",
      "0\n",
      "24\n",
      "25\n",
      "26\n",
      "27\n",
      "28\n",
      "29\n",
      "30\n",
      "31\n",
      "0\n",
      "0\n",
      "34\n",
      "35\n",
      "36\n",
      "37\n",
      "38\n",
      "39\n",
      "40\n",
      "41\n",
      "42\n",
      "43\n",
      "44\n",
      "45\n",
      "46\n",
      "47\n",
      "48\n",
      "49\n",
      "50\n",
      "51\n",
      "52\n",
      "53\n",
      "54\n",
      "55\n",
      "56\n",
      "57\n",
      "58\n",
      "59\n",
      "60\n",
      "61\n",
      "62\n",
      "63\n",
      "64\n",
      "65\n",
      "66\n",
      "67\n",
      "68\n",
      "69\n",
      "70\n",
      "71\n",
      "72\n",
      "73\n",
      "74\n",
      "75\n",
      "76\n",
      "77\n",
      "78\n",
      "79\n",
      "80\n",
      "81\n",
      "82\n",
      "83\n",
      "84\n",
      "85\n",
      "86\n",
      "87\n",
      "88\n",
      "89\n",
      "90\n",
      "91\n",
      "92\n",
      "93\n",
      "94\n",
      "95\n",
      "96\n",
      "97\n",
      "98\n",
      "99\n"
     ]
    }
   ],
   "source": [
    "# iteration\n",
    "for i in np.nditer(a):\n",
    "    print(i)"
   ]
  },
  {
   "cell_type": "code",
   "execution_count": 54,
   "metadata": {},
   "outputs": [
    {
     "data": {
      "text/plain": [
       "array([[ 0, 10, 20, 30, 40, 50, 60, 70, 80, 90],\n",
       "       [ 1, 11, 21, 31, 41, 51, 61, 71, 81, 91],\n",
       "       [ 2, 12,  0,  0, 42, 52, 62, 72, 82, 92],\n",
       "       [ 3, 13,  0,  0, 43, 53, 63, 73, 83, 93],\n",
       "       [ 4, 14, 24, 34, 44, 54, 64, 74, 84, 94],\n",
       "       [ 5, 15, 25, 35, 45, 55, 65, 75, 85, 95],\n",
       "       [ 6, 16, 26, 36, 46, 56, 66, 76, 86, 96],\n",
       "       [ 7, 17, 27, 37, 47, 57, 67, 77, 87, 97],\n",
       "       [ 8, 18, 28, 38, 48, 58, 68, 78, 88, 98],\n",
       "       [ 9, 19, 29, 39, 49, 59, 69, 79, 89, 99]])"
      ]
     },
     "execution_count": 54,
     "metadata": {},
     "output_type": "execute_result"
    }
   ],
   "source": [
    "a.T"
   ]
  },
  {
   "cell_type": "code",
   "execution_count": 56,
   "metadata": {},
   "outputs": [
    {
     "name": "stdout",
     "output_type": "stream",
     "text": [
      "0\n",
      "10\n",
      "20\n",
      "30\n",
      "40\n",
      "50\n",
      "60\n",
      "70\n",
      "80\n",
      "90\n",
      "1\n",
      "11\n",
      "21\n",
      "31\n",
      "41\n",
      "51\n",
      "61\n",
      "71\n",
      "81\n",
      "91\n",
      "2\n",
      "12\n",
      "0\n",
      "0\n",
      "42\n",
      "52\n",
      "62\n",
      "72\n",
      "82\n",
      "92\n",
      "3\n",
      "13\n",
      "0\n",
      "0\n",
      "43\n",
      "53\n",
      "63\n",
      "73\n",
      "83\n",
      "93\n",
      "4\n",
      "14\n",
      "24\n",
      "34\n",
      "44\n",
      "54\n",
      "64\n",
      "74\n",
      "84\n",
      "94\n",
      "5\n",
      "15\n",
      "25\n",
      "35\n",
      "45\n",
      "55\n",
      "65\n",
      "75\n",
      "85\n",
      "95\n",
      "6\n",
      "16\n",
      "26\n",
      "36\n",
      "46\n",
      "56\n",
      "66\n",
      "76\n",
      "86\n",
      "96\n",
      "7\n",
      "17\n",
      "27\n",
      "37\n",
      "47\n",
      "57\n",
      "67\n",
      "77\n",
      "87\n",
      "97\n",
      "8\n",
      "18\n",
      "28\n",
      "38\n",
      "48\n",
      "58\n",
      "68\n",
      "78\n",
      "88\n",
      "98\n",
      "9\n",
      "19\n",
      "29\n",
      "39\n",
      "49\n",
      "59\n",
      "69\n",
      "79\n",
      "89\n",
      "99\n"
     ]
    }
   ],
   "source": [
    "for i in np.nditer(a, order='F'):\n",
    "    print(i)"
   ]
  },
  {
   "cell_type": "code",
   "execution_count": 57,
   "metadata": {},
   "outputs": [
    {
     "data": {
      "text/plain": [
       "array([[ 0,  1,  2,  3,  4,  5,  6,  7,  8,  9],\n",
       "       [10, 11, 12, 13, 14, 15, 16, 17, 18, 19],\n",
       "       [20, 21,  0,  0, 24, 25, 26, 27, 28, 29],\n",
       "       [30, 31,  0,  0, 34, 35, 36, 37, 38, 39],\n",
       "       [40, 41, 42, 43, 44, 45, 46, 47, 48, 49],\n",
       "       [50, 51, 52, 53, 54, 55, 56, 57, 58, 59],\n",
       "       [60, 61, 62, 63, 64, 65, 66, 67, 68, 69],\n",
       "       [70, 71, 72, 73, 74, 75, 76, 77, 78, 79],\n",
       "       [80, 81, 82, 83, 84, 85, 86, 87, 88, 89],\n",
       "       [90, 91, 92, 93, 94, 95, 96, 97, 98, 99]])"
      ]
     },
     "execution_count": 57,
     "metadata": {},
     "output_type": "execute_result"
    }
   ],
   "source": [
    "a[...]"
   ]
  },
  {
   "cell_type": "code",
   "execution_count": 58,
   "metadata": {},
   "outputs": [],
   "source": [
    "a[...] = 10*a"
   ]
  },
  {
   "cell_type": "code",
   "execution_count": 59,
   "metadata": {},
   "outputs": [
    {
     "data": {
      "text/plain": [
       "array([[  0,  10,  20,  30,  40,  50,  60,  70,  80,  90],\n",
       "       [100, 110, 120, 130, 140, 150, 160, 170, 180, 190],\n",
       "       [200, 210,   0,   0, 240, 250, 260, 270, 280, 290],\n",
       "       [300, 310,   0,   0, 340, 350, 360, 370, 380, 390],\n",
       "       [400, 410, 420, 430, 440, 450, 460, 470, 480, 490],\n",
       "       [500, 510, 520, 530, 540, 550, 560, 570, 580, 590],\n",
       "       [600, 610, 620, 630, 640, 650, 660, 670, 680, 690],\n",
       "       [700, 710, 720, 730, 740, 750, 760, 770, 780, 790],\n",
       "       [800, 810, 820, 830, 840, 850, 860, 870, 880, 890],\n",
       "       [900, 910, 920, 930, 940, 950, 960, 970, 980, 990]])"
      ]
     },
     "execution_count": 59,
     "metadata": {},
     "output_type": "execute_result"
    }
   ],
   "source": [
    "a[...]"
   ]
  },
  {
   "cell_type": "markdown",
   "metadata": {},
   "source": [
    "# mathmatics operation"
   ]
  },
  {
   "cell_type": "code",
   "execution_count": 61,
   "metadata": {},
   "outputs": [],
   "source": [
    "x = np.array([10, 30, 50, 20])"
   ]
  },
  {
   "cell_type": "code",
   "execution_count": 62,
   "metadata": {},
   "outputs": [
    {
     "data": {
      "text/plain": [
       "array([10, 30, 50, 20])"
      ]
     },
     "execution_count": 62,
     "metadata": {},
     "output_type": "execute_result"
    }
   ],
   "source": [
    "x"
   ]
  },
  {
   "cell_type": "code",
   "execution_count": 63,
   "metadata": {},
   "outputs": [
    {
     "data": {
      "text/plain": [
       "array([-0.54402111, -0.98803162, -0.26237485,  0.91294525])"
      ]
     },
     "execution_count": 63,
     "metadata": {},
     "output_type": "execute_result"
    }
   ],
   "source": [
    "np.sin(x)"
   ]
  },
  {
   "cell_type": "code",
   "execution_count": 64,
   "metadata": {},
   "outputs": [
    {
     "data": {
      "text/plain": [
       "array([-0.83907153,  0.15425145,  0.96496603,  0.40808206])"
      ]
     },
     "execution_count": 64,
     "metadata": {},
     "output_type": "execute_result"
    }
   ],
   "source": [
    "np.cos(x)"
   ]
  },
  {
   "cell_type": "code",
   "execution_count": 65,
   "metadata": {},
   "outputs": [
    {
     "data": {
      "text/plain": [
       "array([ 0.64836083, -6.4053312 , -0.27190061,  2.23716094])"
      ]
     },
     "execution_count": 65,
     "metadata": {},
     "output_type": "execute_result"
    }
   ],
   "source": [
    "np.tan(x)"
   ]
  },
  {
   "cell_type": "code",
   "execution_count": 66,
   "metadata": {},
   "outputs": [
    {
     "data": {
      "text/plain": [
       "3.141592653589793"
      ]
     },
     "execution_count": 66,
     "metadata": {},
     "output_type": "execute_result"
    }
   ],
   "source": [
    "np.pi"
   ]
  },
  {
   "cell_type": "code",
   "execution_count": 67,
   "metadata": {},
   "outputs": [],
   "source": [
    "# radian value\n",
    "sin = np.sin(a*np.pi/180)"
   ]
  },
  {
   "cell_type": "code",
   "execution_count": 68,
   "metadata": {},
   "outputs": [
    {
     "data": {
      "text/plain": [
       "array([[ 0.00000000e+00,  1.73648178e-01,  3.42020143e-01,\n",
       "         5.00000000e-01,  6.42787610e-01,  7.66044443e-01,\n",
       "         8.66025404e-01,  9.39692621e-01,  9.84807753e-01,\n",
       "         1.00000000e+00],\n",
       "       [ 9.84807753e-01,  9.39692621e-01,  8.66025404e-01,\n",
       "         7.66044443e-01,  6.42787610e-01,  5.00000000e-01,\n",
       "         3.42020143e-01,  1.73648178e-01,  1.22464680e-16,\n",
       "        -1.73648178e-01],\n",
       "       [-3.42020143e-01, -5.00000000e-01,  0.00000000e+00,\n",
       "         0.00000000e+00, -8.66025404e-01, -9.39692621e-01,\n",
       "        -9.84807753e-01, -1.00000000e+00, -9.84807753e-01,\n",
       "        -9.39692621e-01],\n",
       "       [-8.66025404e-01, -7.66044443e-01,  0.00000000e+00,\n",
       "         0.00000000e+00, -3.42020143e-01, -1.73648178e-01,\n",
       "        -2.44929360e-16,  1.73648178e-01,  3.42020143e-01,\n",
       "         5.00000000e-01],\n",
       "       [ 6.42787610e-01,  7.66044443e-01,  8.66025404e-01,\n",
       "         9.39692621e-01,  9.84807753e-01,  1.00000000e+00,\n",
       "         9.84807753e-01,  9.39692621e-01,  8.66025404e-01,\n",
       "         7.66044443e-01],\n",
       "       [ 6.42787610e-01,  5.00000000e-01,  3.42020143e-01,\n",
       "         1.73648178e-01,  3.67394040e-16, -1.73648178e-01,\n",
       "        -3.42020143e-01, -5.00000000e-01, -6.42787610e-01,\n",
       "        -7.66044443e-01],\n",
       "       [-8.66025404e-01, -9.39692621e-01, -9.84807753e-01,\n",
       "        -1.00000000e+00, -9.84807753e-01, -9.39692621e-01,\n",
       "        -8.66025404e-01, -7.66044443e-01, -6.42787610e-01,\n",
       "        -5.00000000e-01],\n",
       "       [-3.42020143e-01, -1.73648178e-01, -4.89858720e-16,\n",
       "         1.73648178e-01,  3.42020143e-01,  5.00000000e-01,\n",
       "         6.42787610e-01,  7.66044443e-01,  8.66025404e-01,\n",
       "         9.39692621e-01],\n",
       "       [ 9.84807753e-01,  1.00000000e+00,  9.84807753e-01,\n",
       "         9.39692621e-01,  8.66025404e-01,  7.66044443e-01,\n",
       "         6.42787610e-01,  5.00000000e-01,  3.42020143e-01,\n",
       "         1.73648178e-01],\n",
       "       [ 6.12323400e-16, -1.73648178e-01, -3.42020143e-01,\n",
       "        -5.00000000e-01, -6.42787610e-01, -7.66044443e-01,\n",
       "        -8.66025404e-01, -9.39692621e-01, -9.84807753e-01,\n",
       "        -1.00000000e+00]])"
      ]
     },
     "execution_count": 68,
     "metadata": {},
     "output_type": "execute_result"
    }
   ],
   "source": [
    "sin"
   ]
  },
  {
   "cell_type": "code",
   "execution_count": 71,
   "metadata": {},
   "outputs": [
    {
     "data": {
      "text/plain": [
       "array([[ 0.00000000e+00,  1.74532925e-01,  3.49065850e-01,\n",
       "         5.23598776e-01,  6.98131701e-01,  8.72664626e-01,\n",
       "         1.04719755e+00,  1.22173048e+00,  1.39626340e+00,\n",
       "         1.57079633e+00],\n",
       "       [ 1.39626340e+00,  1.22173048e+00,  1.04719755e+00,\n",
       "         8.72664626e-01,  6.98131701e-01,  5.23598776e-01,\n",
       "         3.49065850e-01,  1.74532925e-01,  1.22464680e-16,\n",
       "        -1.74532925e-01],\n",
       "       [-3.49065850e-01, -5.23598776e-01,  0.00000000e+00,\n",
       "         0.00000000e+00, -1.04719755e+00, -1.22173048e+00,\n",
       "        -1.39626340e+00, -1.57079633e+00, -1.39626340e+00,\n",
       "        -1.22173048e+00],\n",
       "       [-1.04719755e+00, -8.72664626e-01,  0.00000000e+00,\n",
       "         0.00000000e+00, -3.49065850e-01, -1.74532925e-01,\n",
       "        -2.44929360e-16,  1.74532925e-01,  3.49065850e-01,\n",
       "         5.23598776e-01],\n",
       "       [ 6.98131701e-01,  8.72664626e-01,  1.04719755e+00,\n",
       "         1.22173048e+00,  1.39626340e+00,  1.57079633e+00,\n",
       "         1.39626340e+00,  1.22173048e+00,  1.04719755e+00,\n",
       "         8.72664626e-01],\n",
       "       [ 6.98131701e-01,  5.23598776e-01,  3.49065850e-01,\n",
       "         1.74532925e-01,  3.67394040e-16, -1.74532925e-01,\n",
       "        -3.49065850e-01, -5.23598776e-01, -6.98131701e-01,\n",
       "        -8.72664626e-01],\n",
       "       [-1.04719755e+00, -1.22173048e+00, -1.39626340e+00,\n",
       "        -1.57079633e+00, -1.39626340e+00, -1.22173048e+00,\n",
       "        -1.04719755e+00, -8.72664626e-01, -6.98131701e-01,\n",
       "        -5.23598776e-01],\n",
       "       [-3.49065850e-01, -1.74532925e-01, -4.89858720e-16,\n",
       "         1.74532925e-01,  3.49065850e-01,  5.23598776e-01,\n",
       "         6.98131701e-01,  8.72664626e-01,  1.04719755e+00,\n",
       "         1.22173048e+00],\n",
       "       [ 1.39626340e+00,  1.57079633e+00,  1.39626340e+00,\n",
       "         1.22173048e+00,  1.04719755e+00,  8.72664626e-01,\n",
       "         6.98131701e-01,  5.23598776e-01,  3.49065850e-01,\n",
       "         1.74532925e-01],\n",
       "       [ 6.12323400e-16, -1.74532925e-01, -3.49065850e-01,\n",
       "        -5.23598776e-01, -6.98131701e-01, -8.72664626e-01,\n",
       "        -1.04719755e+00, -1.22173048e+00, -1.39626340e+00,\n",
       "        -1.57079633e+00]])"
      ]
     },
     "execution_count": 71,
     "metadata": {},
     "output_type": "execute_result"
    }
   ],
   "source": [
    "# radian value of a\n",
    "i = np.arcsin(sin)\n",
    "i"
   ]
  },
  {
   "cell_type": "code",
   "execution_count": 73,
   "metadata": {},
   "outputs": [
    {
     "data": {
      "text/plain": [
       "array([[ 0.00000000e+00,  1.00000000e+01,  2.00000000e+01,\n",
       "         3.00000000e+01,  4.00000000e+01,  5.00000000e+01,\n",
       "         6.00000000e+01,  7.00000000e+01,  8.00000000e+01,\n",
       "         9.00000000e+01],\n",
       "       [ 8.00000000e+01,  7.00000000e+01,  6.00000000e+01,\n",
       "         5.00000000e+01,  4.00000000e+01,  3.00000000e+01,\n",
       "         2.00000000e+01,  1.00000000e+01,  7.01670930e-15,\n",
       "        -1.00000000e+01],\n",
       "       [-2.00000000e+01, -3.00000000e+01,  0.00000000e+00,\n",
       "         0.00000000e+00, -6.00000000e+01, -7.00000000e+01,\n",
       "        -8.00000000e+01, -9.00000000e+01, -8.00000000e+01,\n",
       "        -7.00000000e+01],\n",
       "       [-6.00000000e+01, -5.00000000e+01,  0.00000000e+00,\n",
       "         0.00000000e+00, -2.00000000e+01, -1.00000000e+01,\n",
       "        -1.40334186e-14,  1.00000000e+01,  2.00000000e+01,\n",
       "         3.00000000e+01],\n",
       "       [ 4.00000000e+01,  5.00000000e+01,  6.00000000e+01,\n",
       "         7.00000000e+01,  8.00000000e+01,  9.00000000e+01,\n",
       "         8.00000000e+01,  7.00000000e+01,  6.00000000e+01,\n",
       "         5.00000000e+01],\n",
       "       [ 4.00000000e+01,  3.00000000e+01,  2.00000000e+01,\n",
       "         1.00000000e+01,  2.10501279e-14, -1.00000000e+01,\n",
       "        -2.00000000e+01, -3.00000000e+01, -4.00000000e+01,\n",
       "        -5.00000000e+01],\n",
       "       [-6.00000000e+01, -7.00000000e+01, -8.00000000e+01,\n",
       "        -9.00000000e+01, -8.00000000e+01, -7.00000000e+01,\n",
       "        -6.00000000e+01, -5.00000000e+01, -4.00000000e+01,\n",
       "        -3.00000000e+01],\n",
       "       [-2.00000000e+01, -1.00000000e+01, -2.80668372e-14,\n",
       "         1.00000000e+01,  2.00000000e+01,  3.00000000e+01,\n",
       "         4.00000000e+01,  5.00000000e+01,  6.00000000e+01,\n",
       "         7.00000000e+01],\n",
       "       [ 8.00000000e+01,  9.00000000e+01,  8.00000000e+01,\n",
       "         7.00000000e+01,  6.00000000e+01,  5.00000000e+01,\n",
       "         4.00000000e+01,  3.00000000e+01,  2.00000000e+01,\n",
       "         1.00000000e+01],\n",
       "       [ 3.50835465e-14, -1.00000000e+01, -2.00000000e+01,\n",
       "        -3.00000000e+01, -4.00000000e+01, -5.00000000e+01,\n",
       "        -6.00000000e+01, -7.00000000e+01, -8.00000000e+01,\n",
       "        -9.00000000e+01]])"
      ]
     },
     "execution_count": 73,
     "metadata": {},
     "output_type": "execute_result"
    }
   ],
   "source": [
    "# degree\n",
    "np.degrees(i)"
   ]
  },
  {
   "cell_type": "markdown",
   "metadata": {},
   "source": [
    "# statistics on numpy"
   ]
  },
  {
   "cell_type": "code",
   "execution_count": 74,
   "metadata": {},
   "outputs": [],
   "source": [
    "a = np.array([[2, 34, 4], [45, 23, 13], [54, 76, 95]])"
   ]
  },
  {
   "cell_type": "code",
   "execution_count": 75,
   "metadata": {},
   "outputs": [
    {
     "data": {
      "text/plain": [
       "array([[ 2, 34,  4],\n",
       "       [45, 23, 13],\n",
       "       [54, 76, 95]])"
      ]
     },
     "execution_count": 75,
     "metadata": {},
     "output_type": "execute_result"
    }
   ],
   "source": [
    "a"
   ]
  },
  {
   "cell_type": "code",
   "execution_count": 76,
   "metadata": {},
   "outputs": [
    {
     "data": {
      "text/plain": [
       "2"
      ]
     },
     "execution_count": 76,
     "metadata": {},
     "output_type": "execute_result"
    }
   ],
   "source": [
    "np.amin(a)"
   ]
  },
  {
   "cell_type": "code",
   "execution_count": 77,
   "metadata": {},
   "outputs": [
    {
     "data": {
      "text/plain": [
       "array([54, 76, 95])"
      ]
     },
     "execution_count": 77,
     "metadata": {},
     "output_type": "execute_result"
    }
   ],
   "source": [
    "a[2]"
   ]
  },
  {
   "cell_type": "code",
   "execution_count": 78,
   "metadata": {},
   "outputs": [
    {
     "data": {
      "text/plain": [
       "54"
      ]
     },
     "execution_count": 78,
     "metadata": {},
     "output_type": "execute_result"
    }
   ],
   "source": [
    "np.amin(a[2])"
   ]
  },
  {
   "cell_type": "code",
   "execution_count": 79,
   "metadata": {},
   "outputs": [
    {
     "data": {
      "text/plain": [
       "95"
      ]
     },
     "execution_count": 79,
     "metadata": {},
     "output_type": "execute_result"
    }
   ],
   "source": [
    "np.amax(a)"
   ]
  },
  {
   "cell_type": "code",
   "execution_count": 80,
   "metadata": {},
   "outputs": [
    {
     "data": {
      "text/plain": [
       "45"
      ]
     },
     "execution_count": 80,
     "metadata": {},
     "output_type": "execute_result"
    }
   ],
   "source": [
    "np.amax(a[1])"
   ]
  },
  {
   "cell_type": "code",
   "execution_count": 81,
   "metadata": {},
   "outputs": [
    {
     "data": {
      "text/plain": [
       "93"
      ]
     },
     "execution_count": 81,
     "metadata": {},
     "output_type": "execute_result"
    }
   ],
   "source": [
    "# return min and maximum range\n",
    "np.ptp(a)"
   ]
  },
  {
   "cell_type": "code",
   "execution_count": 85,
   "metadata": {},
   "outputs": [
    {
     "data": {
      "text/plain": [
       "array([52, 53, 91])"
      ]
     },
     "execution_count": 85,
     "metadata": {},
     "output_type": "execute_result"
    }
   ],
   "source": [
    "np.ptp(a, axis=0)"
   ]
  },
  {
   "cell_type": "code",
   "execution_count": 86,
   "metadata": {},
   "outputs": [
    {
     "data": {
      "text/plain": [
       "array([[ 2, 34,  4],\n",
       "       [45, 23, 13],\n",
       "       [54, 76, 95]])"
      ]
     },
     "execution_count": 86,
     "metadata": {},
     "output_type": "execute_result"
    }
   ],
   "source": [
    "a"
   ]
  },
  {
   "cell_type": "code",
   "execution_count": 90,
   "metadata": {},
   "outputs": [
    {
     "data": {
      "text/plain": [
       "array([53.1, 71.8, 86.8])"
      ]
     },
     "execution_count": 90,
     "metadata": {},
     "output_type": "execute_result"
    }
   ],
   "source": [
    "np.percentile(a, 95, axis=0)"
   ]
  },
  {
   "cell_type": "code",
   "execution_count": 100,
   "metadata": {},
   "outputs": [],
   "source": [
    "a = np.array([[10, 50, 100], [20, 40, 110]])"
   ]
  },
  {
   "cell_type": "code",
   "execution_count": 97,
   "metadata": {},
   "outputs": [
    {
     "data": {
      "text/plain": [
       "array([ 20.,  50., 110.])"
      ]
     },
     "execution_count": 97,
     "metadata": {},
     "output_type": "execute_result"
    }
   ],
   "source": [
    "np.percentile(a, 100, axis=0)"
   ]
  },
  {
   "cell_type": "markdown",
   "metadata": {},
   "source": [
    "1 - 100 = 25% -> 25, 50%-> 50, 100% -> 100"
   ]
  },
  {
   "cell_type": "code",
   "execution_count": 98,
   "metadata": {},
   "outputs": [],
   "source": [
    "# min, mean, median, mode, max"
   ]
  },
  {
   "cell_type": "code",
   "execution_count": 99,
   "metadata": {},
   "outputs": [],
   "source": [
    "a = np.arange(100)"
   ]
  },
  {
   "cell_type": "code",
   "execution_count": 103,
   "metadata": {},
   "outputs": [],
   "source": [
    "b = np.array([100, 30, 25, 74, 72, 95, 110, 234, 32, 34, 45, 234, 543, 16, 23, 72, 652, 72, 34, 72, 64, 190])"
   ]
  },
  {
   "cell_type": "code",
   "execution_count": 104,
   "metadata": {},
   "outputs": [
    {
     "data": {
      "text/plain": [
       "array([100,  30,  25,  74,  72,  95, 110, 234,  32,  34,  45, 234, 543,\n",
       "        16,  23,  72, 652,  72,  34,  72,  64, 190])"
      ]
     },
     "execution_count": 104,
     "metadata": {},
     "output_type": "execute_result"
    }
   ],
   "source": [
    "b"
   ]
  },
  {
   "cell_type": "code",
   "execution_count": 105,
   "metadata": {},
   "outputs": [
    {
     "data": {
      "text/plain": [
       "16"
      ]
     },
     "execution_count": 105,
     "metadata": {},
     "output_type": "execute_result"
    }
   ],
   "source": [
    "# min\n",
    "np.amin(b)"
   ]
  },
  {
   "cell_type": "code",
   "execution_count": 106,
   "metadata": {},
   "outputs": [
    {
     "data": {
      "text/plain": [
       "128.3181818181818"
      ]
     },
     "execution_count": 106,
     "metadata": {},
     "output_type": "execute_result"
    }
   ],
   "source": [
    "# mean => avarage\n",
    "np.mean(b)"
   ]
  },
  {
   "cell_type": "code",
   "execution_count": 107,
   "metadata": {},
   "outputs": [
    {
     "data": {
      "text/plain": [
       "72.0"
      ]
     },
     "execution_count": 107,
     "metadata": {},
     "output_type": "execute_result"
    }
   ],
   "source": [
    "# median\n",
    "np.median(b)"
   ]
  },
  {
   "cell_type": "code",
   "execution_count": 108,
   "metadata": {},
   "outputs": [
    {
     "data": {
      "text/plain": [
       "128.3181818181818"
      ]
     },
     "execution_count": 108,
     "metadata": {},
     "output_type": "execute_result"
    }
   ],
   "source": [
    "np.average(b)"
   ]
  },
  {
   "cell_type": "code",
   "execution_count": 109,
   "metadata": {},
   "outputs": [],
   "source": [
    "# standard deviation"
   ]
  },
  {
   "cell_type": "code",
   "execution_count": null,
   "metadata": {},
   "outputs": [],
   "source": [
    "standard daviation formula = sqrt(mean(abs(b-b.mean))**2) # square root((mean(absolute(100-128)))^2) \n",
    "(100-128.3181818181818) = -28.3181818181818\n",
    "-28**2 = _/-28**2 = -21\n"
   ]
  },
  {
   "cell_type": "code",
   "execution_count": 115,
   "metadata": {},
   "outputs": [
    {
     "data": {
      "text/plain": [
       "21.540659228538015"
      ]
     },
     "execution_count": 115,
     "metadata": {},
     "output_type": "execute_result"
    }
   ],
   "source": [
    "import math\n",
    "math.sqrt(464)"
   ]
  },
  {
   "cell_type": "code",
   "execution_count": 112,
   "metadata": {},
   "outputs": [
    {
     "data": {
      "text/plain": [
       "161.3052967522474"
      ]
     },
     "execution_count": 112,
     "metadata": {},
     "output_type": "execute_result"
    }
   ],
   "source": [
    "np.std(b)"
   ]
  },
  {
   "cell_type": "code",
   "execution_count": 113,
   "metadata": {},
   "outputs": [],
   "source": [
    "# variance\n",
    "# formula = mean(abs(x-x.mean)**2)"
   ]
  },
  {
   "cell_type": "code",
   "execution_count": 114,
   "metadata": {},
   "outputs": [
    {
     "data": {
      "text/plain": [
       "26019.398760330587"
      ]
     },
     "execution_count": 114,
     "metadata": {},
     "output_type": "execute_result"
    }
   ],
   "source": [
    "np.var(b)"
   ]
  },
  {
   "cell_type": "code",
   "execution_count": null,
   "metadata": {},
   "outputs": [],
   "source": []
  }
 ],
 "metadata": {
  "kernelspec": {
   "display_name": "Python 3",
   "language": "python",
   "name": "python3"
  },
  "language_info": {
   "codemirror_mode": {
    "name": "ipython",
    "version": 3
   },
   "file_extension": ".py",
   "mimetype": "text/x-python",
   "name": "python",
   "nbconvert_exporter": "python",
   "pygments_lexer": "ipython3",
   "version": "3.8.3"
  }
 },
 "nbformat": 4,
 "nbformat_minor": 4
}
